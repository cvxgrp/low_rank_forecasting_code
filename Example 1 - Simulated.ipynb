{
 "cells": [
  {
   "cell_type": "code",
   "execution_count": 41,
   "metadata": {},
   "outputs": [],
   "source": [
    "from fit import fit\n",
    "import pandas as pd\n",
    "import numpy as np\n",
    "import matplotlib.pyplot as plt\n",
    "from utils import latexify"
   ]
  },
  {
   "cell_type": "code",
   "execution_count": 42,
   "metadata": {},
   "outputs": [],
   "source": [
    "np.random.seed(2)\n",
    "n, r = 10, 2\n",
    "A = np.eye(r) + .1 * np.random.randn(r, r); A = .98 * A / np.max(np.abs(np.linalg.eig(A)[0]))\n",
    "C = np.random.randn(n, r)\n",
    "Q = np.eye(r)\n",
    "R = .1 * np.eye(n)\n",
    "\n",
    "z = np.zeros(r)\n",
    "for _ in range(500):\n",
    "    x = C @ z + np.random.multivariate_normal(np.zeros(n), R)\n",
    "    z = A @ z + np.random.multivariate_normal(np.zeros(r), Q)\n",
    "\n",
    "Ztrain, Xtrain = [], []\n",
    "for _ in range(100):\n",
    "    x = C @ z + np.random.multivariate_normal(np.zeros(n), R)\n",
    "    Ztrain.append(z)\n",
    "    Xtrain.append(x)\n",
    "    z = A @ z + np.random.multivariate_normal(np.zeros(r), Q)\n",
    "Xtrain = np.array(Xtrain)\n",
    "Ztrain = np.array(Ztrain)\n",
    "\n",
    "z = np.zeros(r)\n",
    "for _ in range(500):\n",
    "    x = C @ z + np.random.multivariate_normal(np.zeros(n), R)\n",
    "    z = A @ z + np.random.multivariate_normal(np.zeros(r), Q)\n",
    "\n",
    "    Ztest, Xtest = [], []\n",
    "for _ in range(500):\n",
    "    x = C @ z + np.random.multivariate_normal(np.zeros(n), R)\n",
    "    Ztest.append(z)\n",
    "    Xtest.append(x)\n",
    "    z = A @ z + np.random.multivariate_normal(np.zeros(r), Q)\n",
    "Xtest = np.array(Xtest)\n",
    "Ztest = np.array(Ztest)"
   ]
  },
  {
   "cell_type": "code",
   "execution_count": 43,
   "metadata": {},
   "outputs": [],
   "source": [
    "Xmean = Xtrain.mean(axis=0)\n",
    "\n",
    "Xtrain_processed = Xtrain - Xmean\n",
    "Xtest_processed = Xtest - Xmean\n",
    "\n",
    "H = 12\n",
    "M = 12"
   ]
  },
  {
   "cell_type": "markdown",
   "metadata": {},
   "source": [
    "# State space forecaster"
   ]
  },
  {
   "cell_type": "code",
   "execution_count": 44,
   "metadata": {},
   "outputs": [],
   "source": [
    "import cvxpy as cp\n",
    "z = cp.Variable((M, r))\n",
    "x = cp.Parameter((M, n))\n",
    "prob = cp.Problem(cp.Minimize(\n",
    "    cp.sum_squares(z[1:] - z[:-1] @ A.T) + 10 * cp.sum_squares(x - z @ C.T)\n",
    "))\n",
    "x.value = np.zeros((M, n))\n",
    "Ukf = np.zeros((M*n, r))\n",
    "for i in range(M):\n",
    "    for j in range(n):\n",
    "        x.value = np.zeros((M, n))\n",
    "        x.value[i, j] = 1.\n",
    "        prob.solve(solver=cp.OSQP)\n",
    "        Ukf[i*n+j,:] = z.value[-1]\n",
    "Vkf = np.vstack([C @ (np.linalg.multi_dot([A]*i) if i > 1 else A) for i in range(1,H+1)]).T"
   ]
  },
  {
   "cell_type": "code",
   "execution_count": 45,
   "metadata": {},
   "outputs": [
    {
     "data": {
      "text/plain": [
       "10.542677531858025"
      ]
     },
     "execution_count": 45,
     "metadata": {},
     "output_type": "execute_result"
    }
   ],
   "source": [
    "_, _, _, Ptest, Ftest, info = fit(Xtest, H=H, M=M, niter=1, verbose=False)\n",
    "np.mean(np.square(Ptest @ Ukf @ Vkf - Ftest))"
   ]
  },
  {
   "cell_type": "markdown",
   "metadata": {},
   "source": [
    "# $\\ell_2$ Regularized regression forecaster"
   ]
  },
  {
   "cell_type": "code",
   "execution_count": 46,
   "metadata": {},
   "outputs": [],
   "source": [
    "_, _, _, Ptrain, Ftrain, info = fit(Xtrain_processed, H=H, M=M, niter=1, verbose=False)\n",
    "_, _, _, Ptest, Ftest, info = fit(Xtest_processed, H=H, M=M, niter=1, verbose=False)"
   ]
  },
  {
   "cell_type": "code",
   "execution_count": 47,
   "metadata": {},
   "outputs": [
    {
     "name": "stderr",
     "output_type": "stream",
     "text": [
      "/home/shane/miniconda3/lib/python3.7/site-packages/ipykernel_launcher.py:1: FutureWarning: `rcond` parameter will change to the default of machine precision times ``max(M, N)`` where M and N are the input matrix dimensions.\n",
      "To use the future default and silence this warning we advise to pass `rcond=None`, to keep using the old, explicitly pass `rcond=-1`.\n",
      "  \"\"\"Entry point for launching an IPython kernel.\n"
     ]
    },
    {
     "data": {
      "text/plain": [
       "27.2277138499108"
      ]
     },
     "execution_count": 47,
     "metadata": {},
     "output_type": "execute_result"
    }
   ],
   "source": [
    "theta = np.linalg.lstsq(np.vstack([Ptrain, 0 * np.eye(Ptrain.shape[1])]), np.vstack([Ftrain, np.zeros((Ptrain.shape[1], Ftrain.shape[1]))]))[0]\n",
    "np.mean(np.square(Ptest @ theta - Ftest))"
   ]
  },
  {
   "cell_type": "markdown",
   "metadata": {},
   "source": [
    "# Low rank forecaster"
   ]
  },
  {
   "cell_type": "code",
   "execution_count": 48,
   "metadata": {},
   "outputs": [
    {
     "name": "stdout",
     "output_type": "stream",
     "text": [
      "Setting lam to 113.159.\n",
      "Setting up forecaster consistency.\n",
      "0 | 1287.619836746764\n",
      "1 | 975.5637944097704\n",
      "2 | 925.6433744339454\n",
      "3 | 897.0175200271549\n",
      "4 | 881.6487125214059\n",
      "5 | 873.4057845223805\n",
      "6 | 865.8684704283196\n",
      "7 | 860.0764463814253\n",
      "8 | 858.4804986117158\n",
      "9 | 858.2156491764887\n",
      "10 | 858.1779316800298\n",
      "11 | 858.1726433692486\n",
      "12 | 858.1718699505107\n",
      "13 | 858.1717493029726\n",
      "14 | 858.1717291494488\n",
      "15 | 858.1717255350943\n",
      "16 | 858.1717248723623\n",
      "17 | 858.1717247471472\n",
      "18 | 858.1717247257212\n",
      "19 | 858.171724722951\n",
      "Theta has rank 2\n",
      "Time: 6.6371448040008545\n"
     ]
    }
   ],
   "source": [
    "z, U, V, Ptrain, Ftrain, info = fit(Xtrain_processed, M=M, H=H, alpha=.1, kappa=0, niter=20, rank=20, verbose=True, l2_regularization=0)"
   ]
  },
  {
   "cell_type": "code",
   "execution_count": 49,
   "metadata": {},
   "outputs": [
    {
     "name": "stdout",
     "output_type": "stream",
     "text": [
      "Setting lam to 453.903.\n",
      "Setting up forecaster consistency.\n",
      "0 | 2997.2559077079945\n",
      "Theta has rank 1\n",
      "Time: 0.1542978286743164\n"
     ]
    },
    {
     "data": {
      "text/plain": [
       "18.689329712094484"
      ]
     },
     "execution_count": 49,
     "metadata": {},
     "output_type": "execute_result"
    }
   ],
   "source": [
    "_, _, _, Ptest, Ftest, info = fit(Xtest_processed, M=M, H=H, niter=1)\n",
    "np.mean(np.square(Ptest @ U @ V - Ftest))"
   ]
  },
  {
   "cell_type": "code",
   "execution_count": 50,
   "metadata": {},
   "outputs": [
    {
     "data": {
      "text/plain": [
       "50.6993855147602"
      ]
     },
     "execution_count": 50,
     "metadata": {},
     "output_type": "execute_result"
    }
   ],
   "source": [
    "np.mean(np.square(Ftest))"
   ]
  },
  {
   "cell_type": "code",
   "execution_count": 51,
   "metadata": {},
   "outputs": [],
   "source": [
    "ztest = Ptest @ U\n",
    "T = np.linalg.lstsq(ztest, Ztest[M:-H+1], rcond=None)[0]"
   ]
  },
  {
   "cell_type": "code",
   "execution_count": 52,
   "metadata": {},
   "outputs": [
    {
     "data": {
      "image/png": "[encoded data removed]",
      "text/plain": [
       "<Figure size 360x222.492 with 2 Axes>"
      ]
     },
     "metadata": {
      "needs_background": "light"
     },
     "output_type": "display_data"
    }
   ],
   "source": [
    "latexify(5)\n",
    "fig, (ax1, ax2) = plt.subplots(2, 1)\n",
    "ax1.plot(ztest @ T)\n",
    "ax1.set_ylabel(\"forecaster state\")\n",
    "ax2.plot(Ztest[M:-H+1])\n",
    "ax2.set_xlabel(\"$t$\")\n",
    "ax2.set_ylabel(\"model state\")\n",
    "plt.tight_layout()\n",
    "plt.savefig(\"figs/simulated_states.pdf\")"
   ]
  },
  {
   "cell_type": "code",
   "execution_count": 53,
   "metadata": {},
   "outputs": [
    {
     "data": {
      "text/plain": [
       "array([0.96920349+0.05084329j, 0.96920349-0.05084329j])"
      ]
     },
     "execution_count": 53,
     "metadata": {},
     "output_type": "execute_result"
    }
   ],
   "source": [
    "Ahat = np.linalg.lstsq(ztest[:-1], ztest[1:], rcond=None)[0]\n",
    "np.linalg.eig(Ahat)[0]"
   ]
  },
  {
   "cell_type": "code",
   "execution_count": 54,
   "metadata": {},
   "outputs": [
    {
     "data": {
      "text/plain": [
       "array([0.79813192, 0.98      ])"
      ]
     },
     "execution_count": 54,
     "metadata": {},
     "output_type": "execute_result"
    }
   ],
   "source": [
    "np.linalg.eig(A)[0]"
   ]
  },
  {
   "cell_type": "code",
   "execution_count": 61,
   "metadata": {},
   "outputs": [
    {
     "data": {
      "image/png": "[encoded data removed]",
      "text/plain": [
       "<Figure size 360x222.492 with 1 Axes>"
      ]
     },
     "metadata": {
      "needs_background": "light"
     },
     "output_type": "display_data"
    }
   ],
   "source": [
    "Fhat = Ptest @ U @ V\n",
    "\n",
    "i = 100\n",
    "\n",
    "latexify(5)\n",
    "plt.xticks([-11, -5, 0, 5, 12], [\"$t-M+1$\", \"$t-5$\", \"$t$\", \"$t+5$\", \"$t+H$\"])\n",
    "plt.plot(np.arange(-M+1,1), Ptest[i].reshape(M, n)[:,0], label='past')\n",
    "plt.plot(np.arange(0, H+1), np.append(Ptest[i].reshape(M, n)[:,0][-1], Ftest[i].reshape(H, n)[:,0]), label='future')\n",
    "plt.plot(np.arange(1,H+1), Fhat[i].reshape(H, n)[:,0], '--', label='forecast')\n",
    "plt.axvline(0, c='black')\n",
    "plt.legend()\n",
    "plt.ylabel(\"$(x_\\\\tau)_1$\")\n",
    "plt.xlabel(\"$\\\\tau$\")\n",
    "plt.savefig(\"figs/simulated_forecast.pdf\")"
   ]
  },
  {
   "cell_type": "code",
   "execution_count": 62,
   "metadata": {},
   "outputs": [],
   "source": [
    "import torch\n",
    "kappas = np.logspace(-2, 1, 10)\n",
    "train = []\n",
    "test = []\n",
    "for kappa in kappas:\n",
    "    z, U, V, Ptrain, Ftrain, info = fit(Xtrain_processed, M=M, H=H, alpha=.1, kappa=kappa, niter=20, rank=20, verbose=False)\n",
    "    train.append((np.mean(np.square(Ptrain @ U @ V - Ftrain)), info[\"forecaster_consistency\"]))\n",
    "    _, _, _, Ptest, Ftest, info = fit(Xtest_processed, M=M, H=H, alpha=.1, kappa=kappa, niter=1, rank=20, verbose=False)\n",
    "    test.append((np.mean(np.square(Ptest @ U @ V - Ftest)), info[\"fc\"](torch.from_numpy(Ptest), torch.from_numpy(U), torch.from_numpy(V)).item()))"
   ]
  },
  {
   "cell_type": "code",
   "execution_count": 63,
   "metadata": {},
   "outputs": [
    {
     "data": {
      "image/png": "[encoded data removed]",
      "text/plain": [
       "<Figure size 360x222.492 with 1 Axes>"
      ]
     },
     "metadata": {
      "needs_background": "light"
     },
     "output_type": "display_data"
    }
   ],
   "source": [
    "latexify(5)\n",
    "plt.scatter(np.array(train)[:,0], np.array(train)[:,1], label='train')\n",
    "plt.scatter(np.array(test)[:,0], np.array(test)[:,1], label='test', marker='+')\n",
    "plt.xlabel(\"loss\")\n",
    "plt.ylabel(\"forecaster consistency\")\n",
    "plt.semilogy()\n",
    "plt.legend()\n",
    "plt.tight_layout()\n",
    "plt.savefig(\"figs/simulated_consistency_vs_test_loss.pdf\")"
   ]
  },
  {
   "cell_type": "code",
   "execution_count": 65,
   "metadata": {},
   "outputs": [],
   "source": [
    "alphas = np.linspace(0.01, .3, 50)\n",
    "test_losses = []\n",
    "ranks = []\n",
    "for alpha in alphas:\n",
    "    z, U, V, Ptrain, Ftrain, _ = fit(Xtrain_processed, M=M, H=H, alpha=alpha, kappa=0, niter=20, rank=20, verbose=False)\n",
    "    ranks.append(U.shape[1])\n",
    "    _, _, _, Ptest, Ftest, _ = fit(Xtest_processed, M=M, H=H, alpha=.1, kappa=0, niter=1, rank=M*n, verbose=False)\n",
    "    test_losses.append(np.mean(np.square(Ptest @ U @ V - Ftest)))"
   ]
  },
  {
   "cell_type": "code",
   "execution_count": 68,
   "metadata": {},
   "outputs": [
    {
     "data": {
      "image/png": "[encoded data removed]",
      "text/plain": [
       "<Figure size 360x222.492 with 2 Axes>"
      ]
     },
     "metadata": {
      "needs_background": "light"
     },
     "output_type": "display_data"
    }
   ],
   "source": [
    "latexify(5)\n",
    "fig, ax = plt.subplots()\n",
    "l1 = ax.plot(alphas, test_losses, c='blue', label='test loss')\n",
    "ax.set_ylabel(\"test loss\")\n",
    "ax2 = ax.twinx()\n",
    "l2 = ax2.plot(alphas, ranks, '--', c='red', label='rank')\n",
    "ax2.set_ylabel(\"rank of $\\\\theta$\")\n",
    "lns = l1 + l2\n",
    "labs = [l.get_label() for l in lns]\n",
    "plt.legend(lns, labs, loc=1)\n",
    "ax.set_xlabel(\"$\\\\alpha$\")\n",
    "plt.tight_layout()\n",
    "plt.savefig(\"figs/simulated_test_loss.pdf\")"
   ]
  },
  {
   "cell_type": "code",
   "execution_count": 69,
   "metadata": {},
   "outputs": [],
   "source": [
    "z, U, V, Ptrain, Ftrain, info = fit(Xtrain_processed, M=M, H=H, alpha=.1, kappa=0, niter=20, rank=20, verbose=False, l2_regularization=0)\n",
    "Fhat_kappa_0 = Ptest @ U @ V"
   ]
  },
  {
   "cell_type": "code",
   "execution_count": 70,
   "metadata": {},
   "outputs": [],
   "source": [
    "z, U, V, Ptrain, Ftrain, info = fit(Xtrain_processed, M=M, H=H, alpha=.1, kappa=1, niter=20, rank=20, verbose=False, l2_regularization=0)\n",
    "Fhat_kappa_1 = Ptest @ U @ V"
   ]
  },
  {
   "cell_type": "code",
   "execution_count": 100,
   "metadata": {},
   "outputs": [
    {
     "data": {
      "image/png": "[encoded data removed]",
      "text/plain": [
       "<Figure size 360x222.492 with 1 Axes>"
      ]
     },
     "metadata": {
      "needs_background": "light"
     },
     "output_type": "display_data"
    }
   ],
   "source": [
    "def get_tau_t(Fhat, tau, t):\n",
    "    i = t - M\n",
    "    j = tau - t - 1\n",
    "    return Fhat[i, j*n:(j+1)*n]\n",
    "\n",
    "tau = 400\n",
    "x_preds = []\n",
    "for t in range(tau-H, tau):\n",
    "    x = get_tau_t(Fhat_kappa_0, tau, t)\n",
    "    x_preds.append(x)\n",
    "x_preds = np.array(x_preds)\n",
    "\n",
    "x_preds_kappa = []\n",
    "for t in range(tau-H, tau):\n",
    "    x = get_tau_t(Fhat_kappa_1, tau, t)\n",
    "    x_preds_kappa.append(x)\n",
    "x_preds_kappa = np.array(x_preds_kappa)\n",
    "\n",
    "from matplotlib import cm\n",
    "plt.plot(np.arange(-H, 0), x_preds[:,0], label='$\\\\kappa=0$')\n",
    "plt.plot(np.arange(-H, 0), x_preds_kappa[:,0], label='$\\\\kappa=1$')\n",
    "plt.xlabel(\"$t-\\\\tau$\")\n",
    "plt.legend()\n",
    "plt.ylabel(\"$\\\\hat x_{\\\\tau \\\\mid t}$\")\n",
    "plt.savefig(\"figs/simulated_consistency.pdf\")"
   ]
  }
 ],
 "metadata": {
  "@webio": {
   "lastCommId": null,
   "lastKernelId": null
  },
  "kernelspec": {
   "display_name": "Python 3",
   "language": "python",
   "name": "python3"
  },
  "language_info": {
   "codemirror_mode": {
    "name": "ipython",
    "version": 3
   },
   "file_extension": ".py",
   "mimetype": "text/x-python",
   "name": "python",
   "nbconvert_exporter": "python",
   "pygments_lexer": "ipython3",
   "version": "3.7.3"
  }
 },
 "nbformat": 4,
 "nbformat_minor": 2
}
